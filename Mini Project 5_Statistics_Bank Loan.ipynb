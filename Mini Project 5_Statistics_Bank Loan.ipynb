{
 "cells": [
  {
   "cell_type": "markdown",
   "id": "f519fe47",
   "metadata": {},
   "source": [
    "                                        Mini Project 5_Statistics_Bank Loan"
   ]
  },
  {
   "cell_type": "code",
   "execution_count": 1,
   "id": "2a7147e3",
   "metadata": {},
   "outputs": [],
   "source": [
    "import pandas as pd\n",
    "import numpy as np\n",
    "import matplotlib.pyplot as plt\n",
    "import seaborn as sns\n",
    "import warnings\n",
    "warnings.filterwarnings('ignore')\n",
    "%matplotlib inline"
   ]
  },
  {
   "cell_type": "code",
   "execution_count": 2,
   "id": "7ef9ebe3",
   "metadata": {
    "scrolled": true
   },
   "outputs": [
    {
     "data": {
      "text/html": [
       "<div>\n",
       "<style scoped>\n",
       "    .dataframe tbody tr th:only-of-type {\n",
       "        vertical-align: middle;\n",
       "    }\n",
       "\n",
       "    .dataframe tbody tr th {\n",
       "        vertical-align: top;\n",
       "    }\n",
       "\n",
       "    .dataframe thead th {\n",
       "        text-align: right;\n",
       "    }\n",
       "</style>\n",
       "<table border=\"1\" class=\"dataframe\">\n",
       "  <thead>\n",
       "    <tr style=\"text-align: right;\">\n",
       "      <th></th>\n",
       "      <th>Loan_ID</th>\n",
       "      <th>Gender</th>\n",
       "      <th>Married</th>\n",
       "      <th>Dependents</th>\n",
       "      <th>Education</th>\n",
       "      <th>Self_Employed</th>\n",
       "      <th>Applicant_Income</th>\n",
       "      <th>Coapplicant_Income</th>\n",
       "      <th>LoanAmount</th>\n",
       "      <th>Loan_Amount_Term</th>\n",
       "      <th>Credit_History</th>\n",
       "      <th>Property_Area</th>\n",
       "    </tr>\n",
       "  </thead>\n",
       "  <tbody>\n",
       "    <tr>\n",
       "      <th>0</th>\n",
       "      <td>LP001015</td>\n",
       "      <td>Male</td>\n",
       "      <td>Yes</td>\n",
       "      <td>0</td>\n",
       "      <td>Graduate</td>\n",
       "      <td>No</td>\n",
       "      <td>5720</td>\n",
       "      <td>0</td>\n",
       "      <td>110</td>\n",
       "      <td>360</td>\n",
       "      <td>1</td>\n",
       "      <td>Urban</td>\n",
       "    </tr>\n",
       "    <tr>\n",
       "      <th>1</th>\n",
       "      <td>LP001022</td>\n",
       "      <td>Male</td>\n",
       "      <td>Yes</td>\n",
       "      <td>1</td>\n",
       "      <td>Graduate</td>\n",
       "      <td>No</td>\n",
       "      <td>3076</td>\n",
       "      <td>1500</td>\n",
       "      <td>126</td>\n",
       "      <td>360</td>\n",
       "      <td>1</td>\n",
       "      <td>Urban</td>\n",
       "    </tr>\n",
       "    <tr>\n",
       "      <th>2</th>\n",
       "      <td>LP001031</td>\n",
       "      <td>Male</td>\n",
       "      <td>Yes</td>\n",
       "      <td>2</td>\n",
       "      <td>Graduate</td>\n",
       "      <td>No</td>\n",
       "      <td>5000</td>\n",
       "      <td>1800</td>\n",
       "      <td>208</td>\n",
       "      <td>360</td>\n",
       "      <td>1</td>\n",
       "      <td>Urban</td>\n",
       "    </tr>\n",
       "    <tr>\n",
       "      <th>3</th>\n",
       "      <td>LP001035</td>\n",
       "      <td>Male</td>\n",
       "      <td></td>\n",
       "      <td>2</td>\n",
       "      <td>Graduate</td>\n",
       "      <td>No</td>\n",
       "      <td>2340</td>\n",
       "      <td>2546</td>\n",
       "      <td>100</td>\n",
       "      <td>360</td>\n",
       "      <td>1</td>\n",
       "      <td>Urban</td>\n",
       "    </tr>\n",
       "    <tr>\n",
       "      <th>4</th>\n",
       "      <td>LP001051</td>\n",
       "      <td>Male</td>\n",
       "      <td>No</td>\n",
       "      <td>0</td>\n",
       "      <td>Not Graduate</td>\n",
       "      <td>No</td>\n",
       "      <td>3276</td>\n",
       "      <td>0</td>\n",
       "      <td>78</td>\n",
       "      <td>360</td>\n",
       "      <td>1</td>\n",
       "      <td>Urban</td>\n",
       "    </tr>\n",
       "  </tbody>\n",
       "</table>\n",
       "</div>"
      ],
      "text/plain": [
       "    Loan_ID Gender Married Dependents     Education Self_Employed  \\\n",
       "0  LP001015   Male     Yes          0      Graduate            No   \n",
       "1  LP001022   Male     Yes          1      Graduate            No   \n",
       "2  LP001031   Male     Yes          2      Graduate            No   \n",
       "3  LP001035   Male                  2      Graduate            No   \n",
       "4  LP001051   Male      No          0  Not Graduate            No   \n",
       "\n",
       "  Applicant_Income  Coapplicant_Income LoanAmount  Loan_Amount_Term  \\\n",
       "0             5720                   0        110               360   \n",
       "1             3076                1500        126               360   \n",
       "2             5000                1800        208               360   \n",
       "3             2340                2546        100               360   \n",
       "4             3276                   0         78               360   \n",
       "\n",
       "  Credit_History Property_Area  \n",
       "0              1         Urban  \n",
       "1              1         Urban  \n",
       "2              1         Urban  \n",
       "3              1         Urban  \n",
       "4              1         Urban  "
      ]
     },
     "execution_count": 2,
     "metadata": {},
     "output_type": "execute_result"
    }
   ],
   "source": [
    "Bank_loan= pd.read_excel('loan_sanction.xlsx')\n",
    "Bank_loan.head()"
   ]
  },
  {
   "cell_type": "code",
   "execution_count": 3,
   "id": "d27f430a",
   "metadata": {},
   "outputs": [],
   "source": [
    "#1: Check how many duplicate rows are present"
   ]
  },
  {
   "cell_type": "code",
   "execution_count": 4,
   "id": "09a66ccf",
   "metadata": {},
   "outputs": [
    {
     "name": "stdout",
     "output_type": "stream",
     "text": [
      "Number of duplicate rows: 3\n"
     ]
    }
   ],
   "source": [
    "\n",
    "duplicates_count = Bank_loan.duplicated().sum()\n",
    "print(f\"Number of duplicate rows: {duplicates_count}\")\n"
   ]
  },
  {
   "cell_type": "code",
   "execution_count": 7,
   "id": "a069b2db",
   "metadata": {},
   "outputs": [
    {
     "name": "stdout",
     "output_type": "stream",
     "text": [
      "Duplicate Rows:\n",
      "      Loan_ID Gender Married Dependents     Education Self_Employed  \\\n",
      "5    LP001051   Male      No          0  Not Graduate            No   \n",
      "59   LP001321   Male     Yes          2      Graduate            No   \n",
      "330  LP002805   Male     Yes          2      Graduate            No   \n",
      "\n",
      "    Applicant_Income  Coapplicant_Income LoanAmount  Loan_Amount_Term  \\\n",
      "5               3276                   0         78               360   \n",
      "59              3613                3539        134               180   \n",
      "330             5041                 700        150               360   \n",
      "\n",
      "    Credit_History Property_Area  \n",
      "5                1         Urban  \n",
      "59               1     Semiurban  \n",
      "330              1         Urban  \n"
     ]
    }
   ],
   "source": [
    "duplicate_rows = Bank_loan[Bank_loan.duplicated()]\n",
    "print(\"Duplicate Rows:\")\n",
    "print(duplicate_rows)"
   ]
  },
  {
   "cell_type": "code",
   "execution_count": 9,
   "id": "9ed8cb7e",
   "metadata": {},
   "outputs": [],
   "source": [
    "#2 If any Duplicates Present, drop those duplicates"
   ]
  },
  {
   "cell_type": "code",
   "execution_count": 11,
   "id": "e6b216ca",
   "metadata": {},
   "outputs": [],
   "source": [
    "\n",
    "Bank_loan = Bank_loan.drop_duplicates()\n"
   ]
  },
  {
   "cell_type": "code",
   "execution_count": 12,
   "id": "ab16785f",
   "metadata": {},
   "outputs": [
    {
     "name": "stdout",
     "output_type": "stream",
     "text": [
      "Duplicate Rows:\n",
      "Empty DataFrame\n",
      "Columns: [Loan_ID, Gender, Married, Dependents, Education, Self_Employed, Applicant_Income, Coapplicant_Income, LoanAmount, Loan_Amount_Term, Credit_History, Property_Area]\n",
      "Index: []\n"
     ]
    }
   ],
   "source": [
    "duplicate_rows = Bank_loan[Bank_loan.duplicated()]\n",
    "print(\"Duplicate Rows:\")\n",
    "print(duplicate_rows)"
   ]
  },
  {
   "cell_type": "code",
   "execution_count": 13,
   "id": "c71e4bfb",
   "metadata": {},
   "outputs": [],
   "source": [
    "#3. Check null values in each column"
   ]
  },
  {
   "cell_type": "code",
   "execution_count": 14,
   "id": "199cf48c",
   "metadata": {},
   "outputs": [
    {
     "name": "stdout",
     "output_type": "stream",
     "text": [
      "Null values in each column:\n",
      " Loan_ID                0\n",
      "Gender                 2\n",
      "Married                0\n",
      "Dependents            11\n",
      "Education              0\n",
      "Self_Employed          0\n",
      "Applicant_Income       0\n",
      "Coapplicant_Income     0\n",
      "LoanAmount             0\n",
      "Loan_Amount_Term       0\n",
      "Credit_History         0\n",
      "Property_Area          0\n",
      "dtype: int64\n"
     ]
    }
   ],
   "source": [
    "\n",
    "null_values = Bank_loan.isnull().sum()\n",
    "print(\"Null values in each column:\\n\", null_values)\n"
   ]
  },
  {
   "cell_type": "code",
   "execution_count": 15,
   "id": "c1734e59",
   "metadata": {},
   "outputs": [],
   "source": [
    "#4. Delete the Rows which are having null values."
   ]
  },
  {
   "cell_type": "code",
   "execution_count": 16,
   "id": "da91a547",
   "metadata": {},
   "outputs": [],
   "source": [
    "\n",
    "Bank_loan = Bank_loan.dropna()\n"
   ]
  },
  {
   "cell_type": "code",
   "execution_count": 9,
   "id": "33c71169",
   "metadata": {},
   "outputs": [
    {
     "name": "stdout",
     "output_type": "stream",
     "text": [
      "Null values in each column:\n",
      " Loan_ID                0\n",
      "Gender                 2\n",
      "Married                0\n",
      "Dependents            11\n",
      "Education              0\n",
      "Self_Employed          0\n",
      "Applicant_Income       0\n",
      "Coapplicant_Income     0\n",
      "LoanAmount             0\n",
      "Loan_Amount_Term       0\n",
      "Credit_History         0\n",
      "Property_Area          0\n",
      "dtype: int64\n"
     ]
    }
   ],
   "source": [
    "null_values = Bank_loan.isnull().sum()\n",
    "print(\"Null values in each column:\\n\", null_values)\n"
   ]
  },
  {
   "cell_type": "code",
   "execution_count": 10,
   "id": "d95f44b8",
   "metadata": {},
   "outputs": [],
   "source": [
    "Bank_loan = Bank_loan.dropna()\n"
   ]
  },
  {
   "cell_type": "code",
   "execution_count": 11,
   "id": "db072647",
   "metadata": {},
   "outputs": [
    {
     "name": "stdout",
     "output_type": "stream",
     "text": [
      "Null values in each column:\n",
      " Loan_ID               0\n",
      "Gender                0\n",
      "Married               0\n",
      "Dependents            0\n",
      "Education             0\n",
      "Self_Employed         0\n",
      "Applicant_Income      0\n",
      "Coapplicant_Income    0\n",
      "LoanAmount            0\n",
      "Loan_Amount_Term      0\n",
      "Credit_History        0\n",
      "Property_Area         0\n",
      "dtype: int64\n"
     ]
    }
   ],
   "source": [
    "null_values = Bank_loan.isnull().sum()\n",
    "print(\"Null values in each column:\\n\", null_values)\n"
   ]
  },
  {
   "cell_type": "code",
   "execution_count": 12,
   "id": "f8f1e85f",
   "metadata": {},
   "outputs": [],
   "source": [
    "#5 Impute null values with Mode in Gender Column"
   ]
  },
  {
   "cell_type": "code",
   "execution_count": 15,
   "id": "0bede2bc",
   "metadata": {},
   "outputs": [],
   "source": [
    "Bank_loan= pd.read_excel('loan_sanction.xlsx')"
   ]
  },
  {
   "cell_type": "code",
   "execution_count": 16,
   "id": "618e5c19",
   "metadata": {},
   "outputs": [],
   "source": [
    "Bank_loan['Gender'].fillna(Bank_loan['Gender'].mode()[0], inplace=True)"
   ]
  },
  {
   "cell_type": "code",
   "execution_count": 17,
   "id": "32d61662",
   "metadata": {},
   "outputs": [
    {
     "name": "stdout",
     "output_type": "stream",
     "text": [
      "Null values in each column:\n",
      " Loan_ID                0\n",
      "Gender                 0\n",
      "Married                0\n",
      "Dependents            11\n",
      "Education              0\n",
      "Self_Employed          0\n",
      "Applicant_Income       0\n",
      "Coapplicant_Income     0\n",
      "LoanAmount             0\n",
      "Loan_Amount_Term       0\n",
      "Credit_History         0\n",
      "Property_Area          0\n",
      "dtype: int64\n"
     ]
    }
   ],
   "source": [
    "null_values = Bank_loan.isnull().sum()\n",
    "print(\"Null values in each column:\\n\", null_values)"
   ]
  },
  {
   "cell_type": "code",
   "execution_count": 18,
   "id": "7d884e17",
   "metadata": {},
   "outputs": [],
   "source": [
    "#6 Impute null values with Mode in Self_Employed Column"
   ]
  },
  {
   "cell_type": "code",
   "execution_count": 22,
   "id": "1373bea4",
   "metadata": {},
   "outputs": [],
   "source": [
    "Bank_loan= pd.read_excel('loan_sanction.xlsx')\n"
   ]
  },
  {
   "cell_type": "code",
   "execution_count": 24,
   "id": "c5e9de43",
   "metadata": {},
   "outputs": [],
   "source": [
    "Bank_loan['Self_Employed'].fillna(Bank_loan['Self_Employed'].mode()[0], inplace=True)"
   ]
  },
  {
   "cell_type": "code",
   "execution_count": 25,
   "id": "f93d2370",
   "metadata": {},
   "outputs": [
    {
     "name": "stdout",
     "output_type": "stream",
     "text": [
      "Null values in each column:\n",
      " Loan_ID                0\n",
      "Gender                 2\n",
      "Married                0\n",
      "Dependents            11\n",
      "Education              0\n",
      "Self_Employed          0\n",
      "Applicant_Income       0\n",
      "Coapplicant_Income     0\n",
      "LoanAmount             0\n",
      "Loan_Amount_Term       0\n",
      "Credit_History         0\n",
      "Property_Area          0\n",
      "dtype: int64\n"
     ]
    }
   ],
   "source": [
    "null_values = Bank_loan.isnull().sum()\n",
    "print(\"Null values in each column:\\n\", null_values)"
   ]
  },
  {
   "cell_type": "code",
   "execution_count": null,
   "id": "f9a55f9f",
   "metadata": {},
   "outputs": [],
   "source": [
    "#7 Impute null values with mean in LoanAmount Column"
   ]
  },
  {
   "cell_type": "code",
   "execution_count": 26,
   "id": "604a8911",
   "metadata": {},
   "outputs": [],
   "source": [
    "Bank_loan['LoanAmount'].fillna(Bank_loan['LoanAmount'].mode()[0], inplace=True)"
   ]
  },
  {
   "cell_type": "code",
   "execution_count": 27,
   "id": "aa76f247",
   "metadata": {
    "scrolled": false
   },
   "outputs": [
    {
     "name": "stdout",
     "output_type": "stream",
     "text": [
      "Null values in each column:\n",
      " Loan_ID                0\n",
      "Gender                 2\n",
      "Married                0\n",
      "Dependents            11\n",
      "Education              0\n",
      "Self_Employed          0\n",
      "Applicant_Income       0\n",
      "Coapplicant_Income     0\n",
      "LoanAmount             0\n",
      "Loan_Amount_Term       0\n",
      "Credit_History         0\n",
      "Property_Area          0\n",
      "dtype: int64\n"
     ]
    }
   ],
   "source": [
    "null_values = Bank_loan.isnull().sum()\n",
    "print(\"Null values in each column:\\n\", null_values)"
   ]
  },
  {
   "cell_type": "code",
   "execution_count": null,
   "id": "d7ab95cf",
   "metadata": {},
   "outputs": [],
   "source": [
    "Bank_loan"
   ]
  },
  {
   "cell_type": "code",
   "execution_count": 28,
   "id": "768e6427",
   "metadata": {},
   "outputs": [],
   "source": [
    "Bank_loan = Bank_loan.dropna()\n"
   ]
  },
  {
   "cell_type": "code",
   "execution_count": 29,
   "id": "9ca8826e",
   "metadata": {},
   "outputs": [
    {
     "name": "stdout",
     "output_type": "stream",
     "text": [
      "Null values in each column:\n",
      " Loan_ID               0\n",
      "Gender                0\n",
      "Married               0\n",
      "Dependents            0\n",
      "Education             0\n",
      "Self_Employed         0\n",
      "Applicant_Income      0\n",
      "Coapplicant_Income    0\n",
      "LoanAmount            0\n",
      "Loan_Amount_Term      0\n",
      "Credit_History        0\n",
      "Property_Area         0\n",
      "dtype: int64\n"
     ]
    }
   ],
   "source": [
    "null_values = Bank_loan.isnull().sum()\n",
    "print(\"Null values in each column:\\n\", null_values)"
   ]
  },
  {
   "cell_type": "code",
   "execution_count": 32,
   "id": "dd42394c",
   "metadata": {},
   "outputs": [],
   "source": [
    "#8 Top 5 Records"
   ]
  },
  {
   "cell_type": "code",
   "execution_count": 33,
   "id": "2164faab",
   "metadata": {
    "scrolled": false
   },
   "outputs": [
    {
     "data": {
      "text/html": [
       "<div>\n",
       "<style scoped>\n",
       "    .dataframe tbody tr th:only-of-type {\n",
       "        vertical-align: middle;\n",
       "    }\n",
       "\n",
       "    .dataframe tbody tr th {\n",
       "        vertical-align: top;\n",
       "    }\n",
       "\n",
       "    .dataframe thead th {\n",
       "        text-align: right;\n",
       "    }\n",
       "</style>\n",
       "<table border=\"1\" class=\"dataframe\">\n",
       "  <thead>\n",
       "    <tr style=\"text-align: right;\">\n",
       "      <th></th>\n",
       "      <th>Loan_ID</th>\n",
       "      <th>Gender</th>\n",
       "      <th>Married</th>\n",
       "      <th>Dependents</th>\n",
       "      <th>Education</th>\n",
       "      <th>Self_Employed</th>\n",
       "      <th>Applicant_Income</th>\n",
       "      <th>Coapplicant_Income</th>\n",
       "      <th>LoanAmount</th>\n",
       "      <th>Loan_Amount_Term</th>\n",
       "      <th>Credit_History</th>\n",
       "      <th>Property_Area</th>\n",
       "    </tr>\n",
       "  </thead>\n",
       "  <tbody>\n",
       "    <tr>\n",
       "      <th>0</th>\n",
       "      <td>LP001015</td>\n",
       "      <td>Male</td>\n",
       "      <td>Yes</td>\n",
       "      <td>0</td>\n",
       "      <td>Graduate</td>\n",
       "      <td>No</td>\n",
       "      <td>5720</td>\n",
       "      <td>0</td>\n",
       "      <td>110</td>\n",
       "      <td>360</td>\n",
       "      <td>1</td>\n",
       "      <td>Urban</td>\n",
       "    </tr>\n",
       "    <tr>\n",
       "      <th>1</th>\n",
       "      <td>LP001022</td>\n",
       "      <td>Male</td>\n",
       "      <td>Yes</td>\n",
       "      <td>1</td>\n",
       "      <td>Graduate</td>\n",
       "      <td>No</td>\n",
       "      <td>3076</td>\n",
       "      <td>1500</td>\n",
       "      <td>126</td>\n",
       "      <td>360</td>\n",
       "      <td>1</td>\n",
       "      <td>Urban</td>\n",
       "    </tr>\n",
       "    <tr>\n",
       "      <th>2</th>\n",
       "      <td>LP001031</td>\n",
       "      <td>Male</td>\n",
       "      <td>Yes</td>\n",
       "      <td>2</td>\n",
       "      <td>Graduate</td>\n",
       "      <td>No</td>\n",
       "      <td>5000</td>\n",
       "      <td>1800</td>\n",
       "      <td>208</td>\n",
       "      <td>360</td>\n",
       "      <td>1</td>\n",
       "      <td>Urban</td>\n",
       "    </tr>\n",
       "    <tr>\n",
       "      <th>3</th>\n",
       "      <td>LP001035</td>\n",
       "      <td>Male</td>\n",
       "      <td></td>\n",
       "      <td>2</td>\n",
       "      <td>Graduate</td>\n",
       "      <td>No</td>\n",
       "      <td>2340</td>\n",
       "      <td>2546</td>\n",
       "      <td>100</td>\n",
       "      <td>360</td>\n",
       "      <td>1</td>\n",
       "      <td>Urban</td>\n",
       "    </tr>\n",
       "    <tr>\n",
       "      <th>4</th>\n",
       "      <td>LP001051</td>\n",
       "      <td>Male</td>\n",
       "      <td>No</td>\n",
       "      <td>0</td>\n",
       "      <td>Not Graduate</td>\n",
       "      <td>No</td>\n",
       "      <td>3276</td>\n",
       "      <td>0</td>\n",
       "      <td>78</td>\n",
       "      <td>360</td>\n",
       "      <td>1</td>\n",
       "      <td>Urban</td>\n",
       "    </tr>\n",
       "  </tbody>\n",
       "</table>\n",
       "</div>"
      ],
      "text/plain": [
       "    Loan_ID Gender Married Dependents     Education Self_Employed  \\\n",
       "0  LP001015   Male     Yes          0      Graduate            No   \n",
       "1  LP001022   Male     Yes          1      Graduate            No   \n",
       "2  LP001031   Male     Yes          2      Graduate            No   \n",
       "3  LP001035   Male                  2      Graduate            No   \n",
       "4  LP001051   Male      No          0  Not Graduate            No   \n",
       "\n",
       "  Applicant_Income  Coapplicant_Income LoanAmount  Loan_Amount_Term  \\\n",
       "0             5720                   0        110               360   \n",
       "1             3076                1500        126               360   \n",
       "2             5000                1800        208               360   \n",
       "3             2340                2546        100               360   \n",
       "4             3276                   0         78               360   \n",
       "\n",
       "  Credit_History Property_Area  \n",
       "0              1         Urban  \n",
       "1              1         Urban  \n",
       "2              1         Urban  \n",
       "3              1         Urban  \n",
       "4              1         Urban  "
      ]
     },
     "execution_count": 33,
     "metadata": {},
     "output_type": "execute_result"
    }
   ],
   "source": [
    "Bank_loan.head()"
   ]
  },
  {
   "cell_type": "code",
   "execution_count": 34,
   "id": "2b364a0e",
   "metadata": {},
   "outputs": [],
   "source": [
    "#9 Export the DataFrame to Excel"
   ]
  },
  {
   "cell_type": "code",
   "execution_count": 35,
   "id": "9d3eb574",
   "metadata": {},
   "outputs": [],
   "source": [
    "Bank_loan.to_excel('cleaned_dataset.xlsx', index=False)\n"
   ]
  },
  {
   "cell_type": "code",
   "execution_count": 36,
   "id": "43fa9c65",
   "metadata": {},
   "outputs": [],
   "source": [
    "#10 Number of Rows and Columns in a DataFrame\n"
   ]
  },
  {
   "cell_type": "code",
   "execution_count": 37,
   "id": "59ef3c58",
   "metadata": {},
   "outputs": [
    {
     "name": "stdout",
     "output_type": "stream",
     "text": [
      "Number of rows: 357, Number of columns: 12\n"
     ]
    }
   ],
   "source": [
    "num_rows, num_columns = Bank_loan.shape\n",
    "print(f\"Number of rows: {num_rows}, Number of columns: {num_columns}\")\n"
   ]
  },
  {
   "cell_type": "code",
   "execution_count": 39,
   "id": "5454f487",
   "metadata": {},
   "outputs": [],
   "source": [
    "#11 Print all Column names in a DF"
   ]
  },
  {
   "cell_type": "code",
   "execution_count": 40,
   "id": "2427aedd",
   "metadata": {},
   "outputs": [
    {
     "name": "stdout",
     "output_type": "stream",
     "text": [
      "Column names:\n",
      " Index(['Loan_ID', 'Gender', 'Married', 'Dependents', 'Education',\n",
      "       'Self_Employed', 'Applicant_Income', 'Coapplicant_Income', 'LoanAmount',\n",
      "       'Loan_Amount_Term', 'Credit_History', 'Property_Area'],\n",
      "      dtype='object')\n"
     ]
    }
   ],
   "source": [
    "print(\"Column names:\\n\", Bank_loan.columns)\n"
   ]
  },
  {
   "cell_type": "code",
   "execution_count": 41,
   "id": "49c86c2f",
   "metadata": {},
   "outputs": [],
   "source": [
    "#12 Generate the descriptive statistics of Numerical variables."
   ]
  },
  {
   "cell_type": "code",
   "execution_count": 44,
   "id": "f489c93d",
   "metadata": {},
   "outputs": [
    {
     "name": "stdout",
     "output_type": "stream",
     "text": [
      "Descriptive Statistics of Numerical Variables:\n",
      "        Coapplicant_Income  Loan_Amount_Term\n",
      "count          357.000000        357.000000\n",
      "mean          1598.971989        343.282913\n",
      "std           2357.028463         64.015457\n",
      "min              0.000000          6.000000\n",
      "25%              0.000000        360.000000\n",
      "50%           1083.000000        360.000000\n",
      "75%           2474.000000        360.000000\n",
      "max          24000.000000        480.000000\n"
     ]
    }
   ],
   "source": [
    "numerical_variables = Bank_loan.describe()\n",
    "print(\"Descriptive Statistics of Numerical Variables:\\n\", numerical_variables)"
   ]
  },
  {
   "cell_type": "code",
   "execution_count": 45,
   "id": "920a4446",
   "metadata": {},
   "outputs": [],
   "source": [
    "#13 Display numeric data type columns in a DF"
   ]
  },
  {
   "cell_type": "code",
   "execution_count": 47,
   "id": "145267ee",
   "metadata": {},
   "outputs": [
    {
     "name": "stdout",
     "output_type": "stream",
     "text": [
      "numeric data type columns in DF:\n",
      "      Coapplicant_Income  Loan_Amount_Term\n",
      "0                     0               360\n",
      "1                  1500               360\n",
      "2                  1800               360\n",
      "3                  2546               360\n",
      "4                     0               360\n",
      "..                  ...               ...\n",
      "365                1777               360\n",
      "366                 709               360\n",
      "367                1993               360\n",
      "368                2393               360\n",
      "369                   0               180\n",
      "\n",
      "[357 rows x 2 columns]\n"
     ]
    }
   ],
   "source": [
    "numerical_data = Bank_loan.select_dtypes(include=np.number)\n",
    "print(\"numeric data type columns in DF:\\n\", numerical_data)"
   ]
  },
  {
   "cell_type": "code",
   "execution_count": 48,
   "id": "433674f9",
   "metadata": {},
   "outputs": [],
   "source": [
    "#14 Select all data types of columns in a DF except object data type"
   ]
  },
  {
   "cell_type": "code",
   "execution_count": 49,
   "id": "d5adc3c8",
   "metadata": {},
   "outputs": [
    {
     "name": "stdout",
     "output_type": "stream",
     "text": [
      "all data types of columns in DF except object:\n",
      "      Coapplicant_Income  Loan_Amount_Term\n",
      "0                     0               360\n",
      "1                  1500               360\n",
      "2                  1800               360\n",
      "3                  2546               360\n",
      "4                     0               360\n",
      "..                  ...               ...\n",
      "365                1777               360\n",
      "366                 709               360\n",
      "367                1993               360\n",
      "368                2393               360\n",
      "369                   0               180\n",
      "\n",
      "[357 rows x 2 columns]\n"
     ]
    }
   ],
   "source": [
    "data_types = Bank_loan.select_dtypes(exclude='object')\n",
    "print(\"all data types of columns in DF except object:\\n\", data_types)"
   ]
  },
  {
   "cell_type": "code",
   "execution_count": 50,
   "id": "d7ea32aa",
   "metadata": {},
   "outputs": [],
   "source": [
    "#15 Extract all the Records where Self_Employed is equal to Yes."
   ]
  },
  {
   "cell_type": "code",
   "execution_count": 51,
   "id": "f0db4fcd",
   "metadata": {},
   "outputs": [
    {
     "name": "stdout",
     "output_type": "stream",
     "text": [
      "all the Records where Self_Employed is equal to Yes:\n",
      "       Loan_ID  Gender Married Dependents     Education Self_Employed  \\\n",
      "6    LP001054    Male     Yes          0  Not Graduate           Yes   \n",
      "38   LP001210       ?     Yes          0      Graduate           Yes   \n",
      "39   LP001211    Male      No          0      Graduate           Yes   \n",
      "50   LP001270    Male     Yes         3+  Not Graduate           Yes   \n",
      "63   LP001335    Male     Yes          0      Graduate           Yes   \n",
      "75   LP001380    Male     Yes          0      Graduate           Yes   \n",
      "79   LP001413    Male      No          0      Graduate           Yes   \n",
      "92   LP001475    Male     Yes          0      Graduate           Yes   \n",
      "112  LP001584  Female       #          0      Graduate           Yes   \n",
      "134  LP001728    Male     Yes          1      Graduate           Yes   \n",
      "145  LP001791    Male     Yes          0      Graduate           Yes   \n",
      "146  LP001794    Male     Yes          2      Graduate           Yes   \n",
      "149  LP001817    Male      No          0  Not Graduate           Yes   \n",
      "157  LP001857    Male      No          0  Not Graduate           Yes   \n",
      "158  LP001862    Male     Yes          2      Graduate           Yes   \n",
      "197  LP002083    Male      No          0      Graduate           Yes   \n",
      "202  LP002105    Male     Yes          0      Graduate           Yes   \n",
      "214  LP002172    Male     Yes         3+      Graduate           Yes   \n",
      "220  LP002195    Male     Yes          1      Graduate           Yes   \n",
      "226  LP002256  Female      No          2      Graduate           Yes   \n",
      "233  LP002298    Male      No          0      Graduate           Yes   \n",
      "248  LP002358    Male     Yes          2      Graduate           Yes   \n",
      "250  LP002375    Male     Yes          0  Not Graduate           Yes   \n",
      "273  LP002482  Female      No          0      Graduate           Yes   \n",
      "302  LP002644    Male     Yes          1      Graduate           Yes   \n",
      "305  LP002657    Male     Yes          1  Not Graduate           Yes   \n",
      "308  LP002721    Male     Yes          2      Graduate           Yes   \n",
      "331  LP002806    Male     Yes         3+      Graduate           Yes   \n",
      "341  LP002857    Male     Yes          1      Graduate           Yes   \n",
      "343  LP002860    Male     Yes          0      Graduate           Yes   \n",
      "344  LP002867    Male      No          0      Graduate           Yes   \n",
      "352  LP002891    Male     Yes          0      Graduate           Yes   \n",
      "365  LP002971    Male     Yes         3+  Not Graduate           Yes   \n",
      "369  LP002989    Male      No          0      Graduate           Yes   \n",
      "\n",
      "    Applicant_Income  Coapplicant_Income LoanAmount  Loan_Amount_Term  \\\n",
      "6               2165                3422        152               360   \n",
      "38              2267                2792         90               360   \n",
      "39              5833                   0        116               360   \n",
      "50              8000                 250        187               360   \n",
      "63              7016                 292        125               360   \n",
      "75              3900                2094        232               360   \n",
      "79              6356                   0         50               360   \n",
      "92              3188                2286        130               360   \n",
      "112             4742                   0        108               360   \n",
      "134             3343                1517        105               360   \n",
      "145            32000                   0        550               360   \n",
      "146            10890                   0        260                12   \n",
      "149             8703                   0        199               360   \n",
      "157             1599                2474        125               300   \n",
      "158             4246                4246        214               360   \n",
      "197             5833                   0        116               360   \n",
      "202             8706                   0        108               480   \n",
      "214             5384                   0        150               360   \n",
      "220             3507                3148        212               360   \n",
      "226             5184                   0        187               360   \n",
      "233             2860                2988        138               360   \n",
      "248             5000                2166        150               360   \n",
      "250             3943                   0         64               360   \n",
      "273             3333                3916        212               360   \n",
      "302             7500                   0         75               360   \n",
      "305              570                2125         68               360   \n",
      "308             7500                   0        183               360   \n",
      "331             6958                1411        150               360   \n",
      "341             2360                3355         87               240   \n",
      "343             2623                4831        122               180   \n",
      "344             3972                4275        187               360   \n",
      "352             2500                 296        137               300   \n",
      "365             4009                1777        113               360   \n",
      "369             9200                   0         98               180   \n",
      "\n",
      "    Credit_History Property_Area  \n",
      "6                1         Urban  \n",
      "38               1         Urban  \n",
      "39               1         Urban  \n",
      "50               1     Semiurban  \n",
      "63               1         Urban  \n",
      "75               1         Rural  \n",
      "79               1         Rural  \n",
      "92               1         Rural  \n",
      "112              1     Semiurban  \n",
      "134              1         Rural  \n",
      "145              1     Semiurban  \n",
      "146              1         Rural  \n",
      "149              1         Rural  \n",
      "157              1     Semiurban  \n",
      "158              1         Urban  \n",
      "197              1         Urban  \n",
      "202              1         Rural  \n",
      "214              1     Semiurban  \n",
      "220              1         Rural  \n",
      "226              1     Semiurban  \n",
      "233              1         Urban  \n",
      "248              1         Urban  \n",
      "250              1     Semiurban  \n",
      "273              1         Rural  \n",
      "302              1         Urban  \n",
      "305              1         Rural  \n",
      "308              1         Rural  \n",
      "331              1         Rural  \n",
      "341              1         Rural  \n",
      "343              1     Semiurban  \n",
      "344              1         Rural  \n",
      "352              1         Rural  \n",
      "365              1         Urban  \n",
      "369              1         Rural  \n"
     ]
    }
   ],
   "source": [
    "self_employed_yes_records = Bank_loan[Bank_loan['Self_Employed'] == 'Yes']\n",
    "print(\"all the Records where Self_Employed is equal to Yes:\\n\", self_employed_yes_records)"
   ]
  },
  {
   "cell_type": "code",
   "execution_count": 52,
   "id": "5a5ff1f4",
   "metadata": {},
   "outputs": [],
   "source": [
    "#16 Extract all the Records where Property_area is equal to urban in a DF."
   ]
  },
  {
   "cell_type": "code",
   "execution_count": 54,
   "id": "1c291dda",
   "metadata": {},
   "outputs": [
    {
     "name": "stdout",
     "output_type": "stream",
     "text": [
      "the Records where Property_area is equal to urban:\n",
      "       Loan_ID  Gender Married Dependents     Education Self_Employed  \\\n",
      "0    LP001015    Male     Yes          0      Graduate            No   \n",
      "1    LP001022    Male     Yes          1      Graduate            No   \n",
      "2    LP001031    Male     Yes          2      Graduate            No   \n",
      "3    LP001035    Male                  2      Graduate            No   \n",
      "4    LP001051    Male      No          0  Not Graduate            No   \n",
      "..        ...     ...     ...        ...           ...           ...   \n",
      "359  LP002935    Male     Yes          1      Graduate            No   \n",
      "360  LP002952    Male      No          0      Graduate            No   \n",
      "363  LP002965  Female     Yes          0      Graduate            No   \n",
      "365  LP002971    Male     Yes         3+  Not Graduate           Yes   \n",
      "366  LP002975    Male     Yes          0      Graduate            No   \n",
      "\n",
      "    Applicant_Income  Coapplicant_Income LoanAmount  Loan_Amount_Term  \\\n",
      "0               5720                   0        110               360   \n",
      "1               3076                1500        126               360   \n",
      "2               5000                1800        208               360   \n",
      "3               2340                2546        100               360   \n",
      "4               3276                   0         78               360   \n",
      "..               ...                 ...        ...               ...   \n",
      "359             3791                1936         85               360   \n",
      "360             2500                   0         60               360   \n",
      "363             8550                4255         96               360   \n",
      "365             4009                1777        113               360   \n",
      "366             4158                 709        115               360   \n",
      "\n",
      "    Credit_History Property_Area  \n",
      "0                1         Urban  \n",
      "1                1         Urban  \n",
      "2                1         Urban  \n",
      "3                1         Urban  \n",
      "4                1         Urban  \n",
      "..             ...           ...  \n",
      "359              1         Urban  \n",
      "360              1         Urban  \n",
      "363              1         Urban  \n",
      "365              1         Urban  \n",
      "366              1         Urban  \n",
      "\n",
      "[137 rows x 12 columns]\n"
     ]
    }
   ],
   "source": [
    "urban_property_area = Bank_loan [Bank_loan['Property_Area']== 'Urban']\n",
    "print(\"the Records where Property_area is equal to urban:\\n\",urban_property_area)"
   ]
  },
  {
   "cell_type": "code",
   "execution_count": 55,
   "id": "14f4d49b",
   "metadata": {},
   "outputs": [],
   "source": [
    "#17 Print number of unique values in Gender column"
   ]
  },
  {
   "cell_type": "code",
   "execution_count": 57,
   "id": "61ab6f89",
   "metadata": {},
   "outputs": [
    {
     "name": "stdout",
     "output_type": "stream",
     "text": [
      "Number of unique values in Gender column: ['Male' 'Female' '?']\n"
     ]
    }
   ],
   "source": [
    "unique_gender_values = Bank_loan['Gender'].unique()\n",
    "print(f\"Number of unique values in Gender column: {unique_gender_values}\")"
   ]
  },
  {
   "cell_type": "code",
   "execution_count": 58,
   "id": "37196ac0",
   "metadata": {},
   "outputs": [
    {
     "name": "stdout",
     "output_type": "stream",
     "text": [
      "Number of unique values in Gender column: 3\n"
     ]
    }
   ],
   "source": [
    "unique_gender_values = Bank_loan['Gender'].nunique()\n",
    "print(f\"Number of unique values in Gender column: {unique_gender_values}\")"
   ]
  },
  {
   "cell_type": "code",
   "execution_count": 67,
   "id": "2f17404b",
   "metadata": {},
   "outputs": [],
   "source": [
    "#19 Check for correlations of all variables."
   ]
  },
  {
   "cell_type": "code",
   "execution_count": 70,
   "id": "39583784",
   "metadata": {},
   "outputs": [
    {
     "name": "stdout",
     "output_type": "stream",
     "text": [
      "                    Coapplicant_Income  Loan_Amount_Term\n",
      "Coapplicant_Income            1.000000         -0.016458\n",
      "Loan_Amount_Term             -0.016458          1.000000\n"
     ]
    }
   ],
   "source": [
    "correlation_matrix = Bank_loan.corr()\n",
    "print(correlation_matrix)"
   ]
  },
  {
   "cell_type": "code",
   "execution_count": 71,
   "id": "b5ec8124",
   "metadata": {},
   "outputs": [
    {
     "data": {
      "image/png": "[encoded data removed]",
      "text/plain": [
       "<Figure size 1000x800 with 2 Axes>"
      ]
     },
     "metadata": {},
     "output_type": "display_data"
    }
   ],
   "source": [
    "plt.figure(figsize=(10, 8))\n",
    "sns.heatmap(correlation_matrix, annot=True, cmap='coolwarm', fmt='.2f')\n",
    "plt.title('Correlation Matrix')\n",
    "plt.show()"
   ]
  },
  {
   "cell_type": "code",
   "execution_count": null,
   "id": "4936dc3e",
   "metadata": {},
   "outputs": [],
   "source": []
  },
  {
   "cell_type": "code",
   "execution_count": null,
   "id": "32ce8e00",
   "metadata": {},
   "outputs": [],
   "source": []
  },
  {
   "cell_type": "code",
   "execution_count": null,
   "id": "8c3e64ae",
   "metadata": {},
   "outputs": [],
   "source": []
  }
 ],
 "metadata": {
  "kernelspec": {
   "display_name": "Python 3 (ipykernel)",
   "language": "python",
   "name": "python3"
  },
  "language_info": {
   "codemirror_mode": {
    "name": "ipython",
    "version": 3
   },
   "file_extension": ".py",
   "mimetype": "text/x-python",
   "name": "python",
   "nbconvert_exporter": "python",
   "pygments_lexer": "ipython3",
   "version": "3.11.4"
  }
 },
 "nbformat": 4,
 "nbformat_minor": 5
}
